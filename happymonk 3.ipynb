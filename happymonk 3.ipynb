{
 "cells": [
  {
   "cell_type": "code",
   "execution_count": 1,
   "id": "006e398b",
   "metadata": {},
   "outputs": [
    {
     "name": "stdout",
     "output_type": "stream",
     "text": [
      "Requirement already satisfied: imgaug in c:\\users\\91721\\anaconda3\\lib\\site-packages (0.4.0)\n",
      "Requirement already satisfied: matplotlib in c:\\users\\91721\\anaconda3\\lib\\site-packages (from imgaug) (3.4.3)\n",
      "Requirement already satisfied: scipy in c:\\users\\91721\\anaconda3\\lib\\site-packages (from imgaug) (1.7.1)\n",
      "Requirement already satisfied: Pillow in c:\\users\\91721\\anaconda3\\lib\\site-packages (from imgaug) (8.4.0)\n",
      "Requirement already satisfied: scikit-image>=0.14.2 in c:\\users\\91721\\anaconda3\\lib\\site-packages (from imgaug) (0.18.3)\n",
      "Requirement already satisfied: opencv-python in c:\\users\\91721\\anaconda3\\lib\\site-packages (from imgaug) (4.6.0.66)\n",
      "Requirement already satisfied: six in c:\\users\\91721\\anaconda3\\lib\\site-packages (from imgaug) (1.16.0)\n",
      "Requirement already satisfied: Shapely in c:\\users\\91721\\anaconda3\\lib\\site-packages (from imgaug) (1.8.2)\n",
      "Requirement already satisfied: numpy>=1.15 in c:\\users\\91721\\anaconda3\\lib\\site-packages (from imgaug) (1.20.3)\n",
      "Requirement already satisfied: imageio in c:\\users\\91721\\anaconda3\\lib\\site-packages (from imgaug) (2.9.0)\n",
      "Requirement already satisfied: networkx>=2.0 in c:\\users\\91721\\anaconda3\\lib\\site-packages (from scikit-image>=0.14.2->imgaug) (2.6.3)\n",
      "Requirement already satisfied: tifffile>=2019.7.26 in c:\\users\\91721\\anaconda3\\lib\\site-packages (from scikit-image>=0.14.2->imgaug) (2021.7.2)\n",
      "Requirement already satisfied: PyWavelets>=1.1.1 in c:\\users\\91721\\anaconda3\\lib\\site-packages (from scikit-image>=0.14.2->imgaug) (1.1.1)\n",
      "Requirement already satisfied: kiwisolver>=1.0.1 in c:\\users\\91721\\anaconda3\\lib\\site-packages (from matplotlib->imgaug) (1.3.1)\n",
      "Requirement already satisfied: cycler>=0.10 in c:\\users\\91721\\anaconda3\\lib\\site-packages (from matplotlib->imgaug) (0.10.0)\n",
      "Requirement already satisfied: python-dateutil>=2.7 in c:\\users\\91721\\anaconda3\\lib\\site-packages (from matplotlib->imgaug) (2.8.2)\n",
      "Requirement already satisfied: pyparsing>=2.2.1 in c:\\users\\91721\\anaconda3\\lib\\site-packages (from matplotlib->imgaug) (3.0.4)\n",
      "Note: you may need to restart the kernel to use updated packages.\n"
     ]
    }
   ],
   "source": [
    "pip install imgaug"
   ]
  },
  {
   "cell_type": "code",
   "execution_count": 2,
   "id": "2c126901",
   "metadata": {},
   "outputs": [],
   "source": [
    "import imgaug.augmenters as iaa\n",
    "import cv2\n",
    "import glob\n"
   ]
  },
  {
   "cell_type": "code",
   "execution_count": 3,
   "id": "36dd8e0f",
   "metadata": {},
   "outputs": [],
   "source": [
    "# 1. Load Dataset\n",
    "images = []\n",
    "images_path = glob.glob(\"dog.jpg\")\n",
    "for img_path in images_path:\n",
    "    img = cv2.imread(img_path)\n",
    "    images.append(img)"
   ]
  },
  {
   "cell_type": "code",
   "execution_count": 4,
   "id": "16ad21f9",
   "metadata": {},
   "outputs": [],
   "source": [
    "# 2. Image Augmentation\n",
    "augmentation = iaa.Sequential([\n",
    "    # 1. Flip\n",
    "    iaa.Fliplr(0.5),\n",
    "    iaa.Flipud(0.5),\n",
    "\n",
    "    # 2. Affine\n",
    "    iaa.Affine(translate_percent={\"x\": (-0.2, 0.2), \"y\": (-0.2, 0.2)},\n",
    "               rotate=(-30, 30),\n",
    "               scale=(0.5, 1.5)),\n",
    "\n",
    "    # 3. Multiply\n",
    "    iaa.Multiply((0.8, 1.2)),\n",
    "\n",
    "    # 4. Linearcontrast\n",
    "    iaa.LinearContrast((0.6, 1.4)),\n",
    "\n",
    "    # Perform methods below only sometimes\n",
    "    iaa.Sometimes(0.5,\n",
    "        # 5. GaussianBlur\n",
    "        iaa.GaussianBlur((0.0, 3.0))\n",
    "        )\n",
    "\n",
    "])"
   ]
  },
  {
   "cell_type": "code",
   "execution_count": null,
   "id": "a989040b",
   "metadata": {},
   "outputs": [],
   "source": [
    "# 3. Show Images\n",
    "while True:\n",
    "    augmented_images = augmentation(images=images)\n",
    "    for img in augmented_images:\n",
    "        cv2.imshow(\"Image\", img)\n",
    "        cv2.waitKey(0)"
   ]
  },
  {
   "cell_type": "code",
   "execution_count": null,
   "id": "61264b27",
   "metadata": {},
   "outputs": [],
   "source": []
  }
 ],
 "metadata": {
  "kernelspec": {
   "display_name": "Python 3 (ipykernel)",
   "language": "python",
   "name": "python3"
  },
  "language_info": {
   "codemirror_mode": {
    "name": "ipython",
    "version": 3
   },
   "file_extension": ".py",
   "mimetype": "text/x-python",
   "name": "python",
   "nbconvert_exporter": "python",
   "pygments_lexer": "ipython3",
   "version": "3.9.7"
  }
 },
 "nbformat": 4,
 "nbformat_minor": 5
}
